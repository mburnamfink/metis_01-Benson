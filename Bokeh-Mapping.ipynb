{
 "cells": [
  {
   "cell_type": "code",
   "execution_count": 1,
   "metadata": {},
   "outputs": [],
   "source": [
    "#note that Bokeh and and prproj are not in default Conda and must be installed\n",
    "\n",
    "#saving images requires phantomjs\n",
    "#conda install -c conda-forge phantomjs\n",
    "\n",
    "import pandas as pd\n",
    "import datetime as dt\n",
    "import numpy as np\n",
    "import pyproj"
   ]
  },
  {
   "cell_type": "code",
   "execution_count": 2,
   "metadata": {},
   "outputs": [],
   "source": [
    "#we're only concerned with the busiest subway stations.\n",
    "#subway_station_coords.csv is a local file linking station names to Lat, Lon coordinates\n",
    "#for user friendliness when assembling the list, the coordinates are a single string\n",
    "#we split them into lat, lon, and join to our main df with a merge\n",
    "\n",
    "coords = pd.read_csv('subway_station_coords.csv')\n",
    "lats = []\n",
    "lons = []\n",
    "\n",
    "for item in coords.COORDS:\n",
    "    lats.append(float(item.split(',')[0]))\n",
    "    lons.append(float(item.split(',')[1]))\n",
    "    \n",
    "coords['LAT'] = lats\n",
    "coords['LON'] = lons\n",
    "coords.drop(columns =['COORDS'], inplace=True)\n",
    "coords.head()\n",
    "\n",
    "#coordinate transformation from lat, long to Google Maps Web Mercator\n",
    "#we define a function using prproj, apply it to the df, split the\n",
    "#resulting tuple, and drop the unnecessary columns\n",
    "\n",
    "project_projection = pyproj.Proj(\"+init=EPSG:4326\")  # wgs84\n",
    "google_projection = pyproj.Proj(\"+init=EPSG:3857\")  # default google projection\n",
    "\n",
    "def coord_transform(row):\n",
    "    x, y = pyproj.transform(project_projection, google_projection, row['LON'], row['LAT'])\n",
    "    return x, y\n",
    "coords['COORD'] = coords.apply(coord_transform, axis=1)\n",
    "\n",
    "#the function above returns a tuple. There is an elegant way to\n",
    "#split the tuple into two columns, but this works\n",
    "coords[['X_COORD', 'Y_COORD']] = coords['COORD'].apply(pd.Series)\n",
    "coords.drop(columns=['LAT', 'LON','COORD'], inplace=True)\n",
    "coords.head()\n",
    "\n",
    "#while we're here, we also define the center of Manhattan to map from\n",
    "ny_longitude = -73.912074\n",
    "ny_latitude = 40.775149\n",
    "ny_lon, ny_lat = pyproj.transform(project_projection, google_projection, ny_longitude, ny_latitude)"
   ]
  },
  {
   "cell_type": "code",
   "execution_count": 3,
   "metadata": {},
   "outputs": [
    {
     "name": "stdout",
     "output_type": "stream",
     "text": [
      "Max People: 103838 \n",
      "Min People: 1250\n"
     ]
    }
   ],
   "source": [
    "#import out Top20 data from the cleaning phase, and check the max and min\n",
    "\n",
    "df = pd.read_csv('Top20_Benson.csv')\n",
    "df = df.merge(coords, on='STATION')\n",
    "df.head()\n",
    "print('Max People: %.0f \\nMin People: %.0f' % (df.PEOPLE.max(), df.PEOPLE.min()))"
   ]
  },
  {
   "cell_type": "code",
   "execution_count": 4,
   "metadata": {},
   "outputs": [],
   "source": [
    "#not a fan of the default bokeh palettes, so we make our own\n",
    "from matplotlib.colors import LinearSegmentedColormap\n",
    "from matplotlib.colors import rgb2hex\n",
    "import seaborn as sns\n",
    "\n",
    "dark = rgb2hex(sns.color_palette('Greens')[-2])\n",
    "light = rgb2hex(sns.color_palette('Greens')[0])\n",
    "\n",
    "cm = LinearSegmentedColormap.from_list('colors', [light, dark], N=100)\n",
    "pal = []\n",
    "\n",
    "for i in range(100):\n",
    "    pal.append(rgb2hex(cm(i)))"
   ]
  },
  {
   "cell_type": "code",
   "execution_count": 5,
   "metadata": {},
   "outputs": [],
   "source": [
    "#I was asked if I could scale the points by number of people\n",
    "#np.interpolate makes this easy, if we get the highs and lows for the range\n",
    "\n",
    "high = df.PEOPLE.max()\n",
    "low = df.PEOPLE.min()\n",
    "\n",
    "df['SIZE'] = np.interp(df.PEOPLE, [low, high], [5, 25])"
   ]
  },
  {
   "cell_type": "code",
   "execution_count": 6,
   "metadata": {},
   "outputs": [
    {
     "data": {
      "text/plain": [
       "'/home/michael/OneDrive/ds/metis/bootcamp/sf18_ds12/projects/01-Benson/Weekend 1600-2000.png'"
      ]
     },
     "execution_count": 6,
     "metadata": {},
     "output_type": "execute_result"
    }
   ],
   "source": [
    "#and now for the MAGIC!\n",
    "from bokeh.plotting import figure, show, output_file, reset_output\n",
    "from bokeh.tile_providers import CARTODBPOSITRON\n",
    "from bokeh.models import ColumnDataSource, ColorBar, HoverTool, LinearColorMapper, NumeralTickFormatter\n",
    "from bokeh.io import export_png\n",
    "\n",
    "#changing this mask and title make it easy to make new plots\n",
    "mask = (df['WEEKDAY']==6)&(df['HOUR']==20)\n",
    "title = 'Weekend 1600-2000'\n",
    "\n",
    "#a little housekeeping\n",
    "reset_output()\n",
    "output_file(title + \" Map.html\")\n",
    "\n",
    "#associate the data with the plotting functions\n",
    "mapper = LinearColorMapper(palette=pal, low=low, high=high)\n",
    "data = ColumnDataSource(df[mask])\n",
    "\n",
    "#add a hover tool for\n",
    "hover_tool = HoverTool(tooltips =[\n",
    "    ('Station', '@STATION'),\n",
    "    ('People', '@PEOPLE')\n",
    "])\n",
    "\n",
    "# and plot! center the figure in Manhattan, set the axis to mercator coordinates\n",
    "p = figure(x_range=(ny_lon-20000, ny_lon+10000), y_range=(ny_lat-13000, ny_lat+7000),\n",
    "           x_axis_type=\"mercator\", y_axis_type=\"mercator\",\n",
    "           plot_width=900, plot_height=600, title=title)\n",
    "# add a circle for each station, sized and colored by the number of people\n",
    "p.circle(source=data, x='X_COORD', y='Y_COORD', size='SIZE',\n",
    "         color={'field':'PEOPLE', 'transform': mapper}, alpha=0.8, line_color=\"black\",\n",
    "        legend=False)\n",
    "#add open source geotiles\n",
    "p.add_tile(CARTODBPOSITRON)\n",
    "#hovertool, colorbar, and title aesthetics\n",
    "p.add_tools(hover_tool)\n",
    "color_bar = ColorBar(color_mapper=mapper, width=20,  location=(0,0), title='People',\n",
    "                    label_standoff=20, major_label_text_font_size='16pt',\n",
    "                    formatter= NumeralTickFormatter(format='0,0'))\n",
    "p.add_layout(color_bar, 'right')\n",
    "p.title.text_font_size = \"36px\"\n",
    "\n",
    "show(p)\n",
    "export_png(p, filename=title +\".png\")"
   ]
  },
  {
   "cell_type": "code",
   "execution_count": 51,
   "metadata": {},
   "outputs": [
    {
     "data": {
      "text/html": [
       "<div>\n",
       "<style scoped>\n",
       "    .dataframe tbody tr th:only-of-type {\n",
       "        vertical-align: middle;\n",
       "    }\n",
       "\n",
       "    .dataframe tbody tr th {\n",
       "        vertical-align: top;\n",
       "    }\n",
       "\n",
       "    .dataframe thead th {\n",
       "        text-align: right;\n",
       "    }\n",
       "</style>\n",
       "<table border=\"1\" class=\"dataframe\">\n",
       "  <thead>\n",
       "    <tr style=\"text-align: right;\">\n",
       "      <th></th>\n",
       "      <th>STATION</th>\n",
       "      <th>PEOPLE</th>\n",
       "    </tr>\n",
       "  </thead>\n",
       "  <tbody>\n",
       "    <tr>\n",
       "      <th>23</th>\n",
       "      <td>34 ST-PENN STA</td>\n",
       "      <td>103837</td>\n",
       "    </tr>\n",
       "    <tr>\n",
       "      <th>191</th>\n",
       "      <td>GRD CNTRL-42 ST</td>\n",
       "      <td>100851</td>\n",
       "    </tr>\n",
       "    <tr>\n",
       "      <th>149</th>\n",
       "      <td>34 ST-HERALD SQ</td>\n",
       "      <td>86733</td>\n",
       "    </tr>\n",
       "    <tr>\n",
       "      <th>65</th>\n",
       "      <td>TIMES SQ-42 ST</td>\n",
       "      <td>68959</td>\n",
       "    </tr>\n",
       "    <tr>\n",
       "      <th>550</th>\n",
       "      <td>23 ST</td>\n",
       "      <td>66630</td>\n",
       "    </tr>\n",
       "    <tr>\n",
       "      <th>449</th>\n",
       "      <td>FULTON ST</td>\n",
       "      <td>63064</td>\n",
       "    </tr>\n",
       "    <tr>\n",
       "      <th>275</th>\n",
       "      <td>14 ST-UNION SQ</td>\n",
       "      <td>59820</td>\n",
       "    </tr>\n",
       "    <tr>\n",
       "      <th>107</th>\n",
       "      <td>42 ST-PORT AUTH</td>\n",
       "      <td>52749</td>\n",
       "    </tr>\n",
       "    <tr>\n",
       "      <th>410</th>\n",
       "      <td>59 ST COLUMBUS</td>\n",
       "      <td>46346</td>\n",
       "    </tr>\n",
       "    <tr>\n",
       "      <th>513</th>\n",
       "      <td>CANAL ST</td>\n",
       "      <td>45487</td>\n",
       "    </tr>\n",
       "  </tbody>\n",
       "</table>\n",
       "</div>"
      ],
      "text/plain": [
       "             STATION  PEOPLE\n",
       "23    34 ST-PENN STA  103837\n",
       "191  GRD CNTRL-42 ST  100851\n",
       "149  34 ST-HERALD SQ   86733\n",
       "65    TIMES SQ-42 ST   68959\n",
       "550            23 ST   66630\n",
       "449        FULTON ST   63064\n",
       "275   14 ST-UNION SQ   59820\n",
       "107  42 ST-PORT AUTH   52749\n",
       "410   59 ST COLUMBUS   46346\n",
       "513         CANAL ST   45487"
      ]
     },
     "execution_count": 51,
     "metadata": {},
     "output_type": "execute_result"
    }
   ],
   "source": [
    "# a little leftover code to make our tables\n",
    "\n",
    "mask = (df['WEEKDAY']==3)&(df['HOUR']==20)\n",
    "a = df[mask].sort_values('PEOPLE', ascending=False)[['STATION', 'PEOPLE']]\n",
    "a['PEOPLE']=a['PEOPLE'].apply(lambda x: int(x))\n",
    "a[0:10]"
   ]
  }
 ],
 "metadata": {
  "kernelspec": {
   "display_name": "Python 3",
   "language": "python",
   "name": "python3"
  },
  "language_info": {
   "codemirror_mode": {
    "name": "ipython",
    "version": 3
   },
   "file_extension": ".py",
   "mimetype": "text/x-python",
   "name": "python",
   "nbconvert_exporter": "python",
   "pygments_lexer": "ipython3",
   "version": "3.6.6"
  }
 },
 "nbformat": 4,
 "nbformat_minor": 2
}
